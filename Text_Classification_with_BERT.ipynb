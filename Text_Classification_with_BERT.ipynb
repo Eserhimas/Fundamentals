{
  "nbformat": 4,
  "nbformat_minor": 0,
  "metadata": {
    "colab": {
      "provenance": [],
      "gpuType": "T4",
      "authorship_tag": "ABX9TyNWInDKP+J3NcEoOvabVdlh",
      "include_colab_link": true
    },
    "kernelspec": {
      "name": "python3",
      "display_name": "Python 3"
    },
    "language_info": {
      "name": "python"
    },
    "accelerator": "GPU"
  },
  "cells": [
    {
      "cell_type": "markdown",
      "metadata": {
        "id": "view-in-github",
        "colab_type": "text"
      },
      "source": [
        "<a href=\"https://colab.research.google.com/github/Eserhimas/Basics/blob/main/Text_Classification_with_BERT.ipynb\" target=\"_parent\"><img src=\"https://colab.research.google.com/assets/colab-badge.svg\" alt=\"Open In Colab\"/></a>"
      ]
    },
    {
      "cell_type": "code",
      "source": [
        "!pip install tensorflow_text"
      ],
      "metadata": {
        "id": "dVWNpDsiNdsZ"
      },
      "execution_count": null,
      "outputs": []
    },
    {
      "cell_type": "code",
      "source": [
        "!pip install tf-models-official"
      ],
      "metadata": {
        "id": "p_bQhM9IcC_n"
      },
      "execution_count": null,
      "outputs": []
    },
    {
      "cell_type": "code",
      "execution_count": 4,
      "metadata": {
        "id": "qOLsm0afGVsy"
      },
      "outputs": [],
      "source": [
        "import pandas as pd\n",
        "import matplotlib.pyplot as plt\n",
        "import tensorflow as tf\n",
        "import csv\n",
        "import logging\n",
        "import tensorflow_hub as hub\n",
        "import tensorflow_text as text\n",
        "\n",
        "from sklearn.model_selection import train_test_split\n",
        "from google.colab import drive\n",
        "from official.nlp import optimization"
      ]
    },
    {
      "cell_type": "code",
      "source": [
        "drive.mount('/content/gdrive')"
      ],
      "metadata": {
        "colab": {
          "base_uri": "https://localhost:8080/"
        },
        "id": "9fjQBuf2OVlo",
        "outputId": "0646a515-d482-44eb-9c56-493eedfd1aa6"
      },
      "execution_count": 6,
      "outputs": [
        {
          "output_type": "stream",
          "name": "stdout",
          "text": [
            "Mounted at /content/gdrive\n"
          ]
        }
      ]
    },
    {
      "cell_type": "code",
      "source": [
        "# Configures\n",
        "batch_size = 32\n",
        "logger = logging.getLogger()\n",
        "logger.setLevel('ERROR')\n",
        "AUTOTUNE = tf.data.AUTOTUNE\n",
        "\n",
        "raw_ds = tf.keras.utils.text_dataset_from_directory('/content/gdrive/MyDrive/Datasets/movie_reviews')\n",
        "class_names = raw_ds.class_names\n",
        "\n",
        "print(class_names)"
      ],
      "metadata": {
        "colab": {
          "base_uri": "https://localhost:8080/"
        },
        "id": "FNq_R50XGbcO",
        "outputId": "7b3217f9-167f-4459-b26a-4109987b0a14"
      },
      "execution_count": 7,
      "outputs": [
        {
          "output_type": "stream",
          "name": "stdout",
          "text": [
            "Found 2000 files belonging to 2 classes.\n",
            "['neg', 'pos']\n"
          ]
        }
      ]
    },
    {
      "cell_type": "code",
      "source": [
        "def partition_dataset_tf(dataset, ds_size, train_split=0.8, val_split=0.1,\n",
        "                         test_split=0.1, shuffle=True, shuffle_size=1000):\n",
        "\n",
        "  assert(train_split + test_split + val_split) ==1\n",
        "\n",
        "  if shuffle:\n",
        "    dataset = dataset.shuffle(shuffle_size, seed=420)\n",
        "\n",
        "  train_size = int(train_split * ds_size)\n",
        "  val_size = int(val_split * ds_size)\n",
        "\n",
        "  train_ds = dataset.take(train_size)\n",
        "  val_ds = dataset.skip(train_size).take(val_size)\n",
        "  test_ds = dataset.skip(train_size).skip(val_size)\n",
        "\n",
        "  return train_ds, val_ds, test_ds"
      ],
      "metadata": {
        "id": "cyc4q9XEG0sR"
      },
      "execution_count": 8,
      "outputs": []
    },
    {
      "cell_type": "code",
      "source": [
        "train_ds, val_ds, test_ds = partition_dataset_tf(raw_ds, len(raw_ds))"
      ],
      "metadata": {
        "id": "foyFGN8sRgPg"
      },
      "execution_count": 9,
      "outputs": []
    },
    {
      "cell_type": "code",
      "source": [
        "bert_model_name = 'small_bert/bert_en_uncased_L-4_H-512_A-8'\n",
        "\n",
        "map_name_to_handle = {'small_bert/bert_en_uncased_L-4_H-512_A-8':\n",
        "\t\t\t\t\t\t\t\t\t\t\t'https://tfhub.dev/tensorflow/small_bert/bert_en_uncased_L-4_H-512_A-8/1'}\n",
        "\n",
        "map_model_to_preprocess = {'small_bert/bert_en_uncased_L-4_H-512_A-8':\n",
        "\t\t\t\t\t\t\t\t\t\t\t'https://tfhub.dev/tensorflow/bert_en_uncased_preprocess/3'}"
      ],
      "metadata": {
        "id": "zTkSAZndSMix"
      },
      "execution_count": 10,
      "outputs": []
    },
    {
      "cell_type": "code",
      "source": [
        "tfhub_handle_encoder = map_name_to_handle[bert_model_name]\n",
        "tfhub_handle_preprocess = map_model_to_preprocess[bert_model_name]"
      ],
      "metadata": {
        "id": "kChAceuNUBJj"
      },
      "execution_count": 11,
      "outputs": []
    },
    {
      "cell_type": "code",
      "source": [
        "bert_preprocess_model = hub.KerasLayer(tfhub_handle_preprocess)"
      ],
      "metadata": {
        "id": "6DYZ6EjkUPjh"
      },
      "execution_count": 12,
      "outputs": []
    },
    {
      "cell_type": "code",
      "source": [
        "def build_classifier_model():\n",
        "\n",
        "  text_input = tf.keras.layers.Input(shape=(), dtype=tf.string, name='text')\n",
        "\n",
        "  preprocessing_layer = hub.KerasLayer(tfhub_handle_preprocess, name='preprocessing')\n",
        "  encoder_inputs = preprocessing_layer(text_input)\n",
        "  encoder = hub.KerasLayer(tfhub_handle_encoder, trainable=True, name='BERT_encoder')\n",
        "\n",
        "  outputs = encoder(encoder_inputs)\n",
        "\n",
        "  net = outputs['pooled_output']\n",
        "  net = tf.keras.layers.Dropout(0.1)(net)\n",
        "  net = tf.keras.layers.Dense(1, activation=None, name='classifier')(net)\n",
        "\n",
        "  return tf.keras.Model(text_input, net)"
      ],
      "metadata": {
        "id": "NulyIMMPUdrv"
      },
      "execution_count": 13,
      "outputs": []
    },
    {
      "cell_type": "code",
      "source": [
        "classifier_model = build_classifier_model()"
      ],
      "metadata": {
        "id": "haMAIEhFXUpL"
      },
      "execution_count": 14,
      "outputs": []
    },
    {
      "cell_type": "code",
      "source": [
        "tf.keras.utils.plot_model(classifier_model)"
      ],
      "metadata": {
        "colab": {
          "base_uri": "https://localhost:8080/",
          "height": 466
        },
        "id": "Ds7nelSnXWKw",
        "outputId": "3e253d03-9dc3-4c89-a375-c9f21d7f0838"
      },
      "execution_count": 15,
      "outputs": [
        {
          "output_type": "execute_result",
          "data": {
            "image/png": "[encoded data removed]",
            "text/plain": [
              "<IPython.core.display.Image object>"
            ]
          },
          "metadata": {},
          "execution_count": 15
        }
      ]
    },
    {
      "cell_type": "code",
      "source": [
        "loss = tf.keras.losses.BinaryCrossentropy(from_logits=True)"
      ],
      "metadata": {
        "id": "onNt3f1jXZ8K"
      },
      "execution_count": 16,
      "outputs": []
    },
    {
      "cell_type": "code",
      "source": [
        "metrics = tf.metrics.BinaryAccuracy()"
      ],
      "metadata": {
        "id": "1jfwA0WmYAcy"
      },
      "execution_count": 17,
      "outputs": []
    },
    {
      "cell_type": "code",
      "source": [
        "epochs = 15"
      ],
      "metadata": {
        "id": "cMOWa1MZZIDf"
      },
      "execution_count": 18,
      "outputs": []
    },
    {
      "cell_type": "code",
      "source": [
        "steps_per_epoch = tf.data.experimental.cardinality(train_ds).numpy()\n",
        "print(steps_per_epoch)"
      ],
      "metadata": {
        "colab": {
          "base_uri": "https://localhost:8080/"
        },
        "id": "5vv3YzWzadZL",
        "outputId": "4a2e5586-d746-4c27-fab8-e3b2d6dd4ddf"
      },
      "execution_count": 19,
      "outputs": [
        {
          "output_type": "stream",
          "name": "stdout",
          "text": [
            "50\n"
          ]
        }
      ]
    },
    {
      "cell_type": "code",
      "source": [
        "num_train_steps = steps_per_epoch * epochs\n",
        "num_train_steps"
      ],
      "metadata": {
        "colab": {
          "base_uri": "https://localhost:8080/"
        },
        "id": "1Vb4V-JXajKG",
        "outputId": "53b3a2be-3a85-4022-95a4-22454852b614"
      },
      "execution_count": 20,
      "outputs": [
        {
          "output_type": "execute_result",
          "data": {
            "text/plain": [
              "750"
            ]
          },
          "metadata": {},
          "execution_count": 20
        }
      ]
    },
    {
      "cell_type": "code",
      "source": [
        "num_warmup_steps = int(0.1 * num_train_steps)"
      ],
      "metadata": {
        "id": "X3lEp7wlay4F"
      },
      "execution_count": 21,
      "outputs": []
    },
    {
      "cell_type": "code",
      "source": [
        "init_lr = 3e-5"
      ],
      "metadata": {
        "id": "hogcdvAVa7B_"
      },
      "execution_count": 22,
      "outputs": []
    },
    {
      "cell_type": "code",
      "source": [
        "optimizer = optimization.create_optimizer(\n",
        "    init_lr=init_lr,\n",
        "    num_train_steps=num_train_steps,\n",
        "    num_warmup_steps=num_warmup_steps,\n",
        "    optimizer_type='adamw')"
      ],
      "metadata": {
        "id": "MDEzO3jhbOfT"
      },
      "execution_count": 23,
      "outputs": []
    },
    {
      "cell_type": "code",
      "source": [
        "classifier_model.compile(optimizer=optimizer, loss=loss, metrics=metrics)"
      ],
      "metadata": {
        "id": "CME_gQ1Rcirs"
      },
      "execution_count": 24,
      "outputs": []
    },
    {
      "cell_type": "code",
      "source": [
        "classifier_model.summary()"
      ],
      "metadata": {
        "colab": {
          "base_uri": "https://localhost:8080/"
        },
        "id": "m8DJNjMleGZT",
        "outputId": "d9bd18d0-ab3e-4cd2-f90c-4547596ffdc7"
      },
      "execution_count": 25,
      "outputs": [
        {
          "output_type": "stream",
          "name": "stdout",
          "text": [
            "Model: \"model\"\n",
            "__________________________________________________________________________________________________\n",
            " Layer (type)                Output Shape                 Param #   Connected to                  \n",
            "==================================================================================================\n",
            " text (InputLayer)           [(None,)]                    0         []                            \n",
            "                                                                                                  \n",
            " preprocessing (KerasLayer)  {'input_type_ids': (None,    0         ['text[0][0]']                \n",
            "                             128),                                                                \n",
            "                              'input_mask': (None, 128)                                           \n",
            "                             , 'input_word_ids': (None,                                           \n",
            "                              128)}                                                               \n",
            "                                                                                                  \n",
            " BERT_encoder (KerasLayer)   {'default': (None, 512),     2876364   ['preprocessing[0][0]',       \n",
            "                              'pooled_output': (None, 5   9          'preprocessing[0][1]',       \n",
            "                             12),                                    'preprocessing[0][2]']       \n",
            "                              'sequence_output': (None,                                           \n",
            "                              128, 512),                                                          \n",
            "                              'encoder_outputs': [(None                                           \n",
            "                             , 128, 512),                                                         \n",
            "                              (None, 128, 512),                                                   \n",
            "                              (None, 128, 512),                                                   \n",
            "                              (None, 128, 512)]}                                                  \n",
            "                                                                                                  \n",
            " dropout (Dropout)           (None, 512)                  0         ['BERT_encoder[0][5]']        \n",
            "                                                                                                  \n",
            " classifier (Dense)          (None, 1)                    513       ['dropout[0][0]']             \n",
            "                                                                                                  \n",
            "==================================================================================================\n",
            "Total params: 28764162 (109.73 MB)\n",
            "Trainable params: 28764161 (109.73 MB)\n",
            "Non-trainable params: 1 (1.00 Byte)\n",
            "__________________________________________________________________________________________________\n"
          ]
        }
      ]
    },
    {
      "cell_type": "code",
      "source": [
        "history = classifier_model.fit(\n",
        "    x=train_ds,\n",
        "    validation_data=val_ds,\n",
        "    verbose=2,\n",
        "    epochs=epochs)"
      ],
      "metadata": {
        "colab": {
          "base_uri": "https://localhost:8080/"
        },
        "id": "EDj8UHUreKW7",
        "outputId": "abdeb870-efab-4f11-b985-bdfa75e944e7"
      },
      "execution_count": 26,
      "outputs": [
        {
          "output_type": "stream",
          "name": "stdout",
          "text": [
            "Epoch 1/15\n",
            "50/50 - 168s - loss: 0.7196 - binary_accuracy: 0.5196 - val_loss: 0.6531 - val_binary_accuracy: 0.5521 - 168s/epoch - 3s/step\n",
            "Epoch 2/15\n",
            "50/50 - 17s - loss: 0.6592 - binary_accuracy: 0.5808 - val_loss: 0.5535 - val_binary_accuracy: 0.6458 - 17s/epoch - 346ms/step\n",
            "Epoch 3/15\n",
            "50/50 - 16s - loss: 0.5885 - binary_accuracy: 0.6559 - val_loss: 0.4834 - val_binary_accuracy: 0.7396 - 16s/epoch - 324ms/step\n",
            "Epoch 4/15\n",
            "50/50 - 17s - loss: 0.5141 - binary_accuracy: 0.7386 - val_loss: 0.3847 - val_binary_accuracy: 0.8229 - 17s/epoch - 333ms/step\n",
            "Epoch 5/15\n",
            "50/50 - 16s - loss: 0.4388 - binary_accuracy: 0.7866 - val_loss: 0.3628 - val_binary_accuracy: 0.7708 - 16s/epoch - 327ms/step\n",
            "Epoch 6/15\n",
            "50/50 - 17s - loss: 0.3601 - binary_accuracy: 0.8295 - val_loss: 0.2076 - val_binary_accuracy: 0.9115 - 17s/epoch - 348ms/step\n",
            "Epoch 7/15\n",
            "50/50 - 16s - loss: 0.2858 - binary_accuracy: 0.8775 - val_loss: 0.1360 - val_binary_accuracy: 0.9688 - 16s/epoch - 327ms/step\n",
            "Epoch 8/15\n",
            "50/50 - 16s - loss: 0.2319 - binary_accuracy: 0.9085 - val_loss: 0.1288 - val_binary_accuracy: 0.9635 - 16s/epoch - 327ms/step\n",
            "Epoch 9/15\n",
            "50/50 - 19s - loss: 0.1736 - binary_accuracy: 0.9337 - val_loss: 0.0668 - val_binary_accuracy: 0.9844 - 19s/epoch - 388ms/step\n",
            "Epoch 10/15\n",
            "50/50 - 17s - loss: 0.1302 - binary_accuracy: 0.9558 - val_loss: 0.0420 - val_binary_accuracy: 0.9948 - 17s/epoch - 331ms/step\n",
            "Epoch 11/15\n",
            "50/50 - 16s - loss: 0.1234 - binary_accuracy: 0.9583 - val_loss: 0.0487 - val_binary_accuracy: 0.9896 - 16s/epoch - 325ms/step\n",
            "Epoch 12/15\n",
            "50/50 - 17s - loss: 0.0839 - binary_accuracy: 0.9729 - val_loss: 0.0149 - val_binary_accuracy: 1.0000 - 17s/epoch - 345ms/step\n",
            "Epoch 13/15\n",
            "50/50 - 17s - loss: 0.0674 - binary_accuracy: 0.9779 - val_loss: 0.0135 - val_binary_accuracy: 1.0000 - 17s/epoch - 332ms/step\n",
            "Epoch 14/15\n",
            "50/50 - 18s - loss: 0.0653 - binary_accuracy: 0.9792 - val_loss: 0.0135 - val_binary_accuracy: 1.0000 - 18s/epoch - 352ms/step\n",
            "Epoch 15/15\n",
            "50/50 - 16s - loss: 0.0560 - binary_accuracy: 0.9850 - val_loss: 0.0088 - val_binary_accuracy: 1.0000 - 16s/epoch - 328ms/step\n"
          ]
        }
      ]
    },
    {
      "cell_type": "code",
      "source": [
        "history_dict = history.history\n",
        "print(history_dict.keys())"
      ],
      "metadata": {
        "colab": {
          "base_uri": "https://localhost:8080/"
        },
        "id": "OdxS0xKvg1HW",
        "outputId": "cd8eb4b0-0c06-4672-de02-a264d5c693b5"
      },
      "execution_count": 27,
      "outputs": [
        {
          "output_type": "stream",
          "name": "stdout",
          "text": [
            "dict_keys(['loss', 'binary_accuracy', 'val_loss', 'val_binary_accuracy'])\n"
          ]
        }
      ]
    },
    {
      "cell_type": "code",
      "source": [
        "acc = history_dict['binary_accuracy']\n",
        "val_acc = history_dict['val_binary_accuracy']\n",
        "loss = history_dict['loss']\n",
        "val_loss = history_dict['val_loss']"
      ],
      "metadata": {
        "id": "teohR4r4jJdt"
      },
      "execution_count": 28,
      "outputs": []
    },
    {
      "cell_type": "code",
      "source": [
        "epochs = range(1, len(acc) + 1)"
      ],
      "metadata": {
        "id": "OFm29kXijV7I"
      },
      "execution_count": 29,
      "outputs": []
    },
    {
      "cell_type": "code",
      "source": [
        "fig = plt.figure(figsize=(10, 6))\n",
        "fig.tight_layout()\n",
        "plt.subplot(2, 1, 1)\n",
        "# r is for \"solid red line\"\n",
        "plt.plot(epochs, loss, 'r', label='Training loss')\n",
        "# b is for \"solid blue line\"\n",
        "plt.plot(epochs, val_loss, 'b', label='Validation loss')\n",
        "plt.title('Training and validation loss')\n",
        "# plt.xlabel('Epochs')\n",
        "plt.ylabel('Loss')\n",
        "plt.legend()\n",
        "plt.subplot(2, 1, 2)\n",
        "plt.plot(epochs, acc, 'r', label='Training acc')\n",
        "plt.plot(epochs, val_acc, 'b', label='Validation acc')\n",
        "plt.title('Training and validation accuracy')\n",
        "plt.xlabel('Epochs')\n",
        "plt.ylabel('Accuracy')\n",
        "plt.legend(loc='lower right')\n",
        "plt.show()\n",
        "print(history.history.keys())"
      ],
      "metadata": {
        "id": "PoKyPuW-jXo0",
        "outputId": "3e4aecd2-6133-4249-edad-20442b780424",
        "colab": {
          "base_uri": "https://localhost:8080/",
          "height": 581
        }
      },
      "execution_count": 35,
      "outputs": [
        {
          "output_type": "display_data",
          "data": {
            "text/plain": [
              "<Figure size 1000x600 with 2 Axes>"
            ],
            "image/png": "[encoded data removed]"
          },
          "metadata": {}
        },
        {
          "output_type": "stream",
          "name": "stdout",
          "text": [
            "dict_keys(['loss', 'binary_accuracy', 'val_loss', 'val_binary_accuracy'])\n"
          ]
        }
      ]
    },
    {
      "cell_type": "code",
      "source": [
        "loss, accuracy = classifier_model.evaluate(test_ds)"
      ],
      "metadata": {
        "id": "aana1Kg3jawe",
        "outputId": "b12fae85-51e9-4452-a0b9-76b396cd9b61",
        "colab": {
          "base_uri": "https://localhost:8080/"
        }
      },
      "execution_count": 36,
      "outputs": [
        {
          "output_type": "stream",
          "name": "stdout",
          "text": [
            "7/7 [==============================] - 3s 142ms/step - loss: 0.0288 - binary_accuracy: 0.9911\n"
          ]
        }
      ]
    },
    {
      "cell_type": "code",
      "source": [
        "classifier_model.save('/content/gdrive/MyDrive/Models', include_optimizer=False)"
      ],
      "metadata": {
        "id": "m7du8s79lZnL"
      },
      "execution_count": 38,
      "outputs": []
    },
    {
      "cell_type": "code",
      "source": [],
      "metadata": {
        "id": "kod60TQrlrKn"
      },
      "execution_count": null,
      "outputs": []
    }
  ]
}