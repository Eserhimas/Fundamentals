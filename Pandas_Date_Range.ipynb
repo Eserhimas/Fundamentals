{
  "nbformat": 4,
  "nbformat_minor": 0,
  "metadata": {
    "colab": {
      "provenance": [],
      "authorship_tag": "ABX9TyOYWTl+F0yruzXz9f1l1PJ5",
      "include_colab_link": true
    },
    "kernelspec": {
      "name": "python3",
      "display_name": "Python 3"
    },
    "language_info": {
      "name": "python"
    }
  },
  "cells": [
    {
      "cell_type": "markdown",
      "metadata": {
        "id": "view-in-github",
        "colab_type": "text"
      },
      "source": [
        "<a href=\"https://colab.research.google.com/github/Eserhimas/Basics/blob/main/Pandas_Date_Range.ipynb\" target=\"_parent\"><img src=\"https://colab.research.google.com/assets/colab-badge.svg\" alt=\"Open In Colab\"/></a>"
      ]
    },
    {
      "cell_type": "code",
      "execution_count": 1,
      "metadata": {
        "id": "QhhXZNWKCjEu"
      },
      "outputs": [],
      "source": [
        "import pandas as pd\n"
      ]
    },
    {
      "cell_type": "markdown",
      "source": [
        "Pandas Date Range is super helpful for creating a range of times or dates. It's most often used when reindexing your DatetimeIndex."
      ],
      "metadata": {
        "id": "muNmPhWCCpwq"
      }
    },
    {
      "cell_type": "markdown",
      "source": [
        "## Creating a simple date range\n",
        "\n",
        "*   To create a date range, you must first specify a start time and end time.\n",
        "\n"
      ],
      "metadata": {
        "id": "w0zr1C7FCrvs"
      }
    },
    {
      "cell_type": "code",
      "source": [
        "pd.date_range(start='2020-01-01', end='2020-01-06')"
      ],
      "metadata": {
        "colab": {
          "base_uri": "https://localhost:8080/"
        },
        "id": "PHGumsk1Cmmb",
        "outputId": "6b8aa942-898f-4fb2-9620-e78594f8004c"
      },
      "execution_count": 2,
      "outputs": [
        {
          "output_type": "execute_result",
          "data": {
            "text/plain": [
              "DatetimeIndex(['2020-01-01', '2020-01-02', '2020-01-03', '2020-01-04',\n",
              "               '2020-01-05', '2020-01-06'],\n",
              "              dtype='datetime64[ns]', freq='D')"
            ]
          },
          "metadata": {},
          "execution_count": 2
        }
      ]
    },
    {
      "cell_type": "markdown",
      "source": [
        "## Creating a date range in 6 minute intervals\n",
        "\n",
        "*   Let's say you didn't want to split your date range by day, but rather by 6 minutes.\n",
        "*   To do this you need to specify your 'freq' parameter and tell pandas to split your start/end times every 6 minutes.\n",
        "\n",
        "\n"
      ],
      "metadata": {
        "id": "-pKp79pFC7D7"
      }
    },
    {
      "cell_type": "code",
      "source": [
        "pd.date_range(start='2020-01-01 00:00:00', end='2020-01-01 00:24:00', freq='6T')"
      ],
      "metadata": {
        "colab": {
          "base_uri": "https://localhost:8080/"
        },
        "id": "PwP3sS-hCuiW",
        "outputId": "c6a6b599-07c3-4ee1-babf-1d07bb94085f"
      },
      "execution_count": 3,
      "outputs": [
        {
          "output_type": "execute_result",
          "data": {
            "text/plain": [
              "DatetimeIndex(['2020-01-01 00:00:00', '2020-01-01 00:06:00',\n",
              "               '2020-01-01 00:12:00', '2020-01-01 00:18:00',\n",
              "               '2020-01-01 00:24:00'],\n",
              "              dtype='datetime64[ns]', freq='6T')"
            ]
          },
          "metadata": {},
          "execution_count": 3
        }
      ]
    },
    {
      "cell_type": "markdown",
      "source": [
        "## Creating a date range with 10 periods\n",
        "\n",
        "*   Actually, instead of splitting my date range by every 6 minutes, I just want to create 10 periods or buckets.\n",
        "*   Rather than specifying a freq=144S (24min / 10), I'm going to tell pandas I want 10 periods\n",
        "\n"
      ],
      "metadata": {
        "id": "25VB1dyADKD_"
      }
    },
    {
      "cell_type": "code",
      "source": [
        "pd.date_range(start='2020-01-01 00:00:00', end='2020-01-01 00:24:00', periods=10)"
      ],
      "metadata": {
        "colab": {
          "base_uri": "https://localhost:8080/"
        },
        "id": "YTlk0t6IDH4g",
        "outputId": "fc0bbaf4-6918-41f3-bbb8-23ddcb61ec8d"
      },
      "execution_count": 4,
      "outputs": [
        {
          "output_type": "execute_result",
          "data": {
            "text/plain": [
              "DatetimeIndex(['2020-01-01 00:00:00', '2020-01-01 00:02:40',\n",
              "               '2020-01-01 00:05:20', '2020-01-01 00:08:00',\n",
              "               '2020-01-01 00:10:40', '2020-01-01 00:13:20',\n",
              "               '2020-01-01 00:16:00', '2020-01-01 00:18:40',\n",
              "               '2020-01-01 00:21:20', '2020-01-01 00:24:00'],\n",
              "              dtype='datetime64[ns]', freq=None)"
            ]
          },
          "metadata": {},
          "execution_count": 4
        }
      ]
    },
    {
      "cell_type": "markdown",
      "source": [
        "## Exploring different frequencies\n",
        "\n",
        "\n"
      ],
      "metadata": {
        "id": "7PoHOv3WDT3A"
      }
    },
    {
      "cell_type": "markdown",
      "source": [
        "### Business Day 'B' - Notice how the weekends are taken out of the date range below"
      ],
      "metadata": {
        "id": "bdFdQTuMDZW5"
      }
    },
    {
      "cell_type": "code",
      "source": [
        "pd.date_range(start='2020-01-01', end='2020-01-10', freq='B')"
      ],
      "metadata": {
        "colab": {
          "base_uri": "https://localhost:8080/"
        },
        "id": "cH9SyCaTDQgD",
        "outputId": "e83bac02-5357-4346-a366-f51324a88acc"
      },
      "execution_count": 5,
      "outputs": [
        {
          "output_type": "execute_result",
          "data": {
            "text/plain": [
              "DatetimeIndex(['2020-01-01', '2020-01-02', '2020-01-03', '2020-01-06',\n",
              "               '2020-01-07', '2020-01-08', '2020-01-09', '2020-01-10'],\n",
              "              dtype='datetime64[ns]', freq='B')"
            ]
          },
          "metadata": {},
          "execution_count": 5
        }
      ]
    },
    {
      "cell_type": "markdown",
      "source": [
        "### Weekly 'W' - Cutting your date range into weeks"
      ],
      "metadata": {
        "id": "eMQwfKmoDeUe"
      }
    },
    {
      "cell_type": "code",
      "source": [
        "pd.date_range(start='2020-01-01', end='2020-03-10', freq='W')"
      ],
      "metadata": {
        "colab": {
          "base_uri": "https://localhost:8080/"
        },
        "id": "vNO_v3ImDdaO",
        "outputId": "6091ae85-8d3d-4697-b9d2-a5c54bc2660a"
      },
      "execution_count": 6,
      "outputs": [
        {
          "output_type": "execute_result",
          "data": {
            "text/plain": [
              "DatetimeIndex(['2020-01-05', '2020-01-12', '2020-01-19', '2020-01-26',\n",
              "               '2020-02-02', '2020-02-09', '2020-02-16', '2020-02-23',\n",
              "               '2020-03-01', '2020-03-08'],\n",
              "              dtype='datetime64[ns]', freq='W-SUN')"
            ]
          },
          "metadata": {},
          "execution_count": 6
        }
      ]
    },
    {
      "cell_type": "markdown",
      "source": [
        "### Month End 'M' / Month Start 'MS' - Splitting your date range by months"
      ],
      "metadata": {
        "id": "ILibxkRsDjTQ"
      }
    },
    {
      "cell_type": "code",
      "source": [
        "pd.date_range(start='2020-01-01', end='2020-04-01', freq='M')\n"
      ],
      "metadata": {
        "colab": {
          "base_uri": "https://localhost:8080/"
        },
        "id": "qUUDtSLrDhtm",
        "outputId": "a4a028dc-48c5-4ad9-a3fa-be68bfb6c85a"
      },
      "execution_count": 7,
      "outputs": [
        {
          "output_type": "execute_result",
          "data": {
            "text/plain": [
              "DatetimeIndex(['2020-01-31', '2020-02-29', '2020-03-31'], dtype='datetime64[ns]', freq='M')"
            ]
          },
          "metadata": {},
          "execution_count": 7
        }
      ]
    },
    {
      "cell_type": "code",
      "source": [
        "pd.date_range(start='2020-01-01', end='2020-04-01', freq='MS')\n"
      ],
      "metadata": {
        "colab": {
          "base_uri": "https://localhost:8080/"
        },
        "id": "VNlDMEnBDmIO",
        "outputId": "24473f19-d99b-41c8-b925-be14a1c05100"
      },
      "execution_count": 8,
      "outputs": [
        {
          "output_type": "execute_result",
          "data": {
            "text/plain": [
              "DatetimeIndex(['2020-01-01', '2020-02-01', '2020-03-01', '2020-04-01'], dtype='datetime64[ns]', freq='MS')"
            ]
          },
          "metadata": {},
          "execution_count": 8
        }
      ]
    },
    {
      "cell_type": "markdown",
      "source": [
        "### Quarters 'Q' - Splitting your date range by quarters"
      ],
      "metadata": {
        "id": "S5ll6jXzDsZp"
      }
    },
    {
      "cell_type": "code",
      "source": [
        "pd.date_range(start='2020-01-01', end='2020-12-01', freq='Q')"
      ],
      "metadata": {
        "colab": {
          "base_uri": "https://localhost:8080/"
        },
        "id": "yitatW3CDnob",
        "outputId": "27dfba14-f280-4312-f932-359d3b8e5451"
      },
      "execution_count": 11,
      "outputs": [
        {
          "output_type": "execute_result",
          "data": {
            "text/plain": [
              "DatetimeIndex(['2020-03-31', '2020-06-30', '2020-09-30'], dtype='datetime64[ns]', freq='Q-DEC')"
            ]
          },
          "metadata": {},
          "execution_count": 11
        }
      ]
    },
    {
      "cell_type": "markdown",
      "source": [
        "### Every 5 Months '5M' - Don't forget your can put a integer in front of your freq to expand the frequency"
      ],
      "metadata": {
        "id": "JXmGJ2AkD5Uv"
      }
    },
    {
      "cell_type": "code",
      "source": [
        "pd.date_range(start='2020-01-01', end='2021-12-01', freq='5M')"
      ],
      "metadata": {
        "colab": {
          "base_uri": "https://localhost:8080/"
        },
        "id": "_lyHk0E3D0wd",
        "outputId": "40092038-9614-4f5f-d2ac-2c13c31b865d"
      },
      "execution_count": 13,
      "outputs": [
        {
          "output_type": "execute_result",
          "data": {
            "text/plain": [
              "DatetimeIndex(['2020-01-31', '2020-06-30', '2020-11-30', '2021-04-30',\n",
              "               '2021-09-30'],\n",
              "              dtype='datetime64[ns]', freq='5M')"
            ]
          },
          "metadata": {},
          "execution_count": 13
        }
      ]
    },
    {
      "cell_type": "code",
      "source": [],
      "metadata": {
        "id": "UOURJ0ZLD7zb"
      },
      "execution_count": null,
      "outputs": []
    }
  ]
}